{
 "cells": [
  {
   "cell_type": "markdown",
   "metadata": {},
   "source": [
    "# Enumerate\n",
    "- List의 element를 추출할 때 번호를 붙여서 추출"
   ]
  },
  {
   "cell_type": "code",
   "execution_count": 11,
   "metadata": {},
   "outputs": [
    {
     "name": "stdout",
     "output_type": "stream",
     "text": [
      "0 tic\n",
      "1 tac\n",
      "2 toc\n"
     ]
    }
   ],
   "source": [
    "for i, w in enumerate(['tic','tac','toc']):\n",
    "    print(i,w)\n",
    "                       "
   ]
  },
  {
   "cell_type": "code",
   "execution_count": 12,
   "metadata": {},
   "outputs": [
    {
     "data": {
      "text/plain": [
       "[(0, 'a'), (1, 'b'), (2, 'c'), (3, 'd'), (4, 'e')]"
      ]
     },
     "execution_count": 12,
     "metadata": {},
     "output_type": "execute_result"
    }
   ],
   "source": [
    "my_list=['a','b','c','d','e']\n",
    "\n",
    "list(enumerate(my_list))"
   ]
  },
  {
   "cell_type": "code",
   "execution_count": 13,
   "metadata": {},
   "outputs": [
    {
     "data": {
      "text/plain": [
       "{0: 'h',\n",
       " 1: 'e',\n",
       " 2: 'l',\n",
       " 3: 'l',\n",
       " 4: 'o',\n",
       " 5: ',',\n",
       " 6: ' ',\n",
       " 7: 'i',\n",
       " 8: ' ',\n",
       " 9: 'a',\n",
       " 10: 'm',\n",
       " 11: ' ',\n",
       " 12: 'c',\n",
       " 13: 'a',\n",
       " 14: 'r',\n",
       " 15: 'p',\n",
       " 16: 'e',\n",
       " 17: ' ',\n",
       " 18: 'n',\n",
       " 19: 'i',\n",
       " 20: 'c',\n",
       " 21: 'e',\n",
       " 22: ' ',\n",
       " 23: 't',\n",
       " 24: 'o',\n",
       " 25: ' ',\n",
       " 26: 'm',\n",
       " 27: 'e',\n",
       " 28: 'e',\n",
       " 29: 't',\n",
       " 30: ' ',\n",
       " 31: 'y',\n",
       " 32: 'o',\n",
       " 33: 'u'}"
      ]
     },
     "execution_count": 13,
     "metadata": {},
     "output_type": "execute_result"
    }
   ],
   "source": [
    "{i:j for i,j in enumerate('hello, i am carpe nice to meet you')}\n",
    "#문장을 list로 만들고 list의 index와 unpacking 하여 dict로 저장"
   ]
  },
  {
   "cell_type": "markdown",
   "metadata": {},
   "source": [
    "# zip\n",
    "- 두개의 list의 값을 병렬적으로 추출함"
   ]
  },
  {
   "cell_type": "code",
   "execution_count": 14,
   "metadata": {},
   "outputs": [
    {
     "name": "stdout",
     "output_type": "stream",
     "text": [
      "a1 b1\n",
      "a2 b2\n",
      "a3 b3\n"
     ]
    }
   ],
   "source": [
    "alist=['a1','a2','a3']\n",
    "blist=['b1','b2','b3']\n",
    "\n",
    "for a,b in zip(alist,blist):\n",
    "    print(a,b)\n",
    "# alist와 blist의 0번째 인덱스 값을 병렬적으로 추출함"
   ]
  },
  {
   "cell_type": "code",
   "execution_count": 15,
   "metadata": {},
   "outputs": [
    {
     "name": "stdout",
     "output_type": "stream",
     "text": [
      "(1, 4, 7)\n",
      "(2, 5, 8)\n",
      "(3, 6, 9)\n"
     ]
    }
   ],
   "source": [
    "a,b,c=zip((1,2,3),(4,5,6),(7,8,9))\n",
    "print(a)\n",
    "print(b)\n",
    "print(c)"
   ]
  },
  {
   "cell_type": "code",
   "execution_count": 16,
   "metadata": {},
   "outputs": [
    {
     "data": {
      "text/plain": [
       "[6, 15, 24]"
      ]
     },
     "execution_count": 16,
     "metadata": {},
     "output_type": "execute_result"
    }
   ],
   "source": [
    "[sum(x) for x in zip(a,b,c)]"
   ]
  },
  {
   "cell_type": "markdown",
   "metadata": {},
   "source": [
    "# Enumerate & zip"
   ]
  },
  {
   "cell_type": "code",
   "execution_count": 17,
   "metadata": {},
   "outputs": [],
   "source": [
    "alist=['a1','a2','a3']\n",
    "blist=['b1','b2','b3']"
   ]
  },
  {
   "cell_type": "code",
   "execution_count": 21,
   "metadata": {},
   "outputs": [
    {
     "name": "stdout",
     "output_type": "stream",
     "text": [
      "0 a1 b1\n",
      "1 a2 b2\n",
      "2 a3 b3\n"
     ]
    }
   ],
   "source": [
    "for i,(a,b) in enumerate(zip(alist,blist)):\n",
    "    print(i,a,b)"
   ]
  }
 ],
 "metadata": {
  "kernelspec": {
   "display_name": "Python 3",
   "language": "python",
   "name": "python3"
  },
  "language_info": {
   "codemirror_mode": {
    "name": "ipython",
    "version": 3
   },
   "file_extension": ".py",
   "mimetype": "text/x-python",
   "name": "python",
   "nbconvert_exporter": "python",
   "pygments_lexer": "ipython3",
   "version": "3.8.5"
  },
  "toc": {
   "base_numbering": 1,
   "nav_menu": {},
   "number_sections": true,
   "sideBar": true,
   "skip_h1_title": false,
   "title_cell": "Table of Contents",
   "title_sidebar": "Contents",
   "toc_cell": false,
   "toc_position": {},
   "toc_section_display": true,
   "toc_window_display": false
  }
 },
 "nbformat": 4,
 "nbformat_minor": 4
}
